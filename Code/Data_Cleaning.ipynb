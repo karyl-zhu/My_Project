{
 "cells": [
  {
   "cell_type": "code",
   "execution_count": 1,
   "id": "9cc49451",
   "metadata": {},
   "outputs": [],
   "source": [
    "import pandas as pd\n",
    "# pathlib 是 Python 內建（從 Python 3.4 開始有）的模組，專門用來操作檔案與資料夾路徑的工具。\n",
    "# 用物件導向的方式來表示與操作路徑。\n",
    "from pathlib import Path"
   ]
  },
  {
   "cell_type": "code",
   "execution_count": 2,
   "id": "0ed0a5d6",
   "metadata": {},
   "outputs": [],
   "source": [
    "file_path = r\"C:\\Users\\Owner\\Desktop\\Project\\Web_Crawler\\2024\\20241222\\00\\TDCS_M03A_20241222_000000.csv\"\n",
    "# 由於原資料內並沒有設定欄位，以下欄位名稱為高公局定義的欄位名稱\n",
    "cols = ['TimeStamp', 'GantryID', 'Direction', 'VehicleType', 'Volume']\n",
    "# header=None 是告訴 pandas 此表格沒有欄位名稱，不要把第一列當欄位名稱\n",
    "df = pd.read_csv(file_path,  header=None, names=cols)"
   ]
  },
  {
   "cell_type": "code",
   "execution_count": 3,
   "id": "8c335cab",
   "metadata": {},
   "outputs": [
    {
     "data": {
      "text/html": [
       "<div>\n",
       "<style scoped>\n",
       "    .dataframe tbody tr th:only-of-type {\n",
       "        vertical-align: middle;\n",
       "    }\n",
       "\n",
       "    .dataframe tbody tr th {\n",
       "        vertical-align: top;\n",
       "    }\n",
       "\n",
       "    .dataframe thead th {\n",
       "        text-align: right;\n",
       "    }\n",
       "</style>\n",
       "<table border=\"1\" class=\"dataframe\">\n",
       "  <thead>\n",
       "    <tr style=\"text-align: right;\">\n",
       "      <th></th>\n",
       "      <th>TimeStamp</th>\n",
       "      <th>GantryID</th>\n",
       "      <th>Direction</th>\n",
       "      <th>VehicleType</th>\n",
       "      <th>Volume</th>\n",
       "    </tr>\n",
       "  </thead>\n",
       "  <tbody>\n",
       "    <tr>\n",
       "      <th>0</th>\n",
       "      <td>2024-12-22 00:00</td>\n",
       "      <td>01F0005N</td>\n",
       "      <td>N</td>\n",
       "      <td>31</td>\n",
       "      <td>54</td>\n",
       "    </tr>\n",
       "    <tr>\n",
       "      <th>1</th>\n",
       "      <td>2024-12-22 00:00</td>\n",
       "      <td>01F0005N</td>\n",
       "      <td>N</td>\n",
       "      <td>32</td>\n",
       "      <td>9</td>\n",
       "    </tr>\n",
       "    <tr>\n",
       "      <th>2</th>\n",
       "      <td>2024-12-22 00:00</td>\n",
       "      <td>01F0005N</td>\n",
       "      <td>N</td>\n",
       "      <td>41</td>\n",
       "      <td>2</td>\n",
       "    </tr>\n",
       "    <tr>\n",
       "      <th>3</th>\n",
       "      <td>2024-12-22 00:00</td>\n",
       "      <td>01F0005N</td>\n",
       "      <td>N</td>\n",
       "      <td>42</td>\n",
       "      <td>3</td>\n",
       "    </tr>\n",
       "    <tr>\n",
       "      <th>4</th>\n",
       "      <td>2024-12-22 00:00</td>\n",
       "      <td>01F0005N</td>\n",
       "      <td>N</td>\n",
       "      <td>5</td>\n",
       "      <td>0</td>\n",
       "    </tr>\n",
       "    <tr>\n",
       "      <th>...</th>\n",
       "      <td>...</td>\n",
       "      <td>...</td>\n",
       "      <td>...</td>\n",
       "      <td>...</td>\n",
       "      <td>...</td>\n",
       "    </tr>\n",
       "    <tr>\n",
       "      <th>1690</th>\n",
       "      <td>2024-12-22 00:00</td>\n",
       "      <td>05FR143N</td>\n",
       "      <td>N</td>\n",
       "      <td>31</td>\n",
       "      <td>1</td>\n",
       "    </tr>\n",
       "    <tr>\n",
       "      <th>1691</th>\n",
       "      <td>2024-12-22 00:00</td>\n",
       "      <td>05FR143N</td>\n",
       "      <td>N</td>\n",
       "      <td>32</td>\n",
       "      <td>0</td>\n",
       "    </tr>\n",
       "    <tr>\n",
       "      <th>1692</th>\n",
       "      <td>2024-12-22 00:00</td>\n",
       "      <td>05FR143N</td>\n",
       "      <td>N</td>\n",
       "      <td>41</td>\n",
       "      <td>0</td>\n",
       "    </tr>\n",
       "    <tr>\n",
       "      <th>1693</th>\n",
       "      <td>2024-12-22 00:00</td>\n",
       "      <td>05FR143N</td>\n",
       "      <td>N</td>\n",
       "      <td>42</td>\n",
       "      <td>0</td>\n",
       "    </tr>\n",
       "    <tr>\n",
       "      <th>1694</th>\n",
       "      <td>2024-12-22 00:00</td>\n",
       "      <td>05FR143N</td>\n",
       "      <td>N</td>\n",
       "      <td>5</td>\n",
       "      <td>0</td>\n",
       "    </tr>\n",
       "  </tbody>\n",
       "</table>\n",
       "<p>1695 rows × 5 columns</p>\n",
       "</div>"
      ],
      "text/plain": [
       "             TimeStamp  GantryID Direction  VehicleType  Volume\n",
       "0     2024-12-22 00:00  01F0005N         N           31      54\n",
       "1     2024-12-22 00:00  01F0005N         N           32       9\n",
       "2     2024-12-22 00:00  01F0005N         N           41       2\n",
       "3     2024-12-22 00:00  01F0005N         N           42       3\n",
       "4     2024-12-22 00:00  01F0005N         N            5       0\n",
       "...                ...       ...       ...          ...     ...\n",
       "1690  2024-12-22 00:00  05FR143N         N           31       1\n",
       "1691  2024-12-22 00:00  05FR143N         N           32       0\n",
       "1692  2024-12-22 00:00  05FR143N         N           41       0\n",
       "1693  2024-12-22 00:00  05FR143N         N           42       0\n",
       "1694  2024-12-22 00:00  05FR143N         N            5       0\n",
       "\n",
       "[1695 rows x 5 columns]"
      ]
     },
     "execution_count": 3,
     "metadata": {},
     "output_type": "execute_result"
    }
   ],
   "source": [
    "df"
   ]
  },
  {
   "cell_type": "code",
   "execution_count": 4,
   "id": "dd4db698",
   "metadata": {},
   "outputs": [
    {
     "name": "stdout",
     "output_type": "stream",
     "text": [
      "             TimeStamp  GantryID Direction  VehicleType  Volume\n",
      "1630  2024-12-22 00:00  05F0001N         N           31      56\n",
      "1631  2024-12-22 00:00  05F0001N         N           32      17\n",
      "1632  2024-12-22 00:00  05F0001N         N           41       0\n",
      "1633  2024-12-22 00:00  05F0001N         N           42       0\n",
      "1634  2024-12-22 00:00  05F0001N         N            5       0\n",
      "1635  2024-12-22 00:00  05F0055N         N           31      58\n",
      "1636  2024-12-22 00:00  05F0055N         N           32      15\n",
      "1637  2024-12-22 00:00  05F0055N         N           41       0\n",
      "1638  2024-12-22 00:00  05F0055N         N           42       0\n",
      "1639  2024-12-22 00:00  05F0055N         N            5       0\n",
      "1645  2024-12-22 00:00  05F0287N         N           31      35\n",
      "1646  2024-12-22 00:00  05F0287N         N           32      10\n",
      "1647  2024-12-22 00:00  05F0287N         N           41       0\n",
      "1648  2024-12-22 00:00  05F0287N         N           42       0\n",
      "1649  2024-12-22 00:00  05F0287N         N            5       0\n"
     ]
    }
   ],
   "source": [
    "# Direction N -> 北向(宜蘭往頭城)的車子\n",
    "# df[條件篩選]\n",
    "target_ids = ['05F0001N', '05F0055N', '05F0287N']\n",
    "northbound_cars = df[(df['Direction'] == 'N') & (df['GantryID'].isin(target_ids))]\n",
    "print(northbound_cars)"
   ]
  },
  {
   "cell_type": "code",
   "execution_count": null,
   "id": "d19ec09c",
   "metadata": {},
   "outputs": [],
   "source": [
    "# 僅將 GantryID 分組後，加總 Volume\n",
    "# Gantry_Volume = df.groupby('GantryID')['Volume'].sum().reset_index()"
   ]
  },
  {
   "cell_type": "code",
   "execution_count": null,
   "id": "5c440097",
   "metadata": {},
   "outputs": [],
   "source": [
    "# 使用 groupby 將不同門架的資料分組\n",
    "\n",
    "# .agg -> 對分組後的資料，針對不同欄位進行彙總/統計運算，語法如下\n",
    "# df.groupby('欄位').agg({\n",
    "#     '欄位1': '運算方法1',\n",
    "#     '欄位2': '運算方法2',\n",
    "#     ...\n",
    "# })\n",
    "\n",
    "# .rese_index() -> 彙總/計算後的資料建一個新的index\n",
    "# 沒使用的話 groupby 所分組的欄位會變成 index，會影響後續資料的操作\n",
    "Gantry_Volume = northbound_cars.groupby('GantryID').agg({\n",
    "    'Volume':'sum',\n",
    "    'Direction': 'first'  \n",
    "}).reset_index()"
   ]
  },
  {
   "cell_type": "code",
   "execution_count": 29,
   "id": "aae5c394",
   "metadata": {},
   "outputs": [
    {
     "name": "stdout",
     "output_type": "stream",
     "text": [
      "     GantryID  Volume Direction\n",
      "0    01F0005N      46         N\n",
      "1    01F0017N      43         N\n",
      "2    01F0029N      48         N\n",
      "3    01F0061N      57         N\n",
      "4    01F0099N      76         N\n",
      "..        ...     ...       ...\n",
      "163  05F0287N      26         N\n",
      "164  05F0309N      16         N\n",
      "165  05F0438N      16         N\n",
      "166  05F0528N      14         N\n",
      "167  05FR143N       2         N\n",
      "\n",
      "[168 rows x 3 columns]\n"
     ]
    }
   ],
   "source": [
    "print(Gantry_Volume)"
   ]
  },
  {
   "cell_type": "code",
   "execution_count": null,
   "id": "c573e4d7",
   "metadata": {},
   "outputs": [],
   "source": []
  }
 ],
 "metadata": {
  "kernelspec": {
   "display_name": "Python 3",
   "language": "python",
   "name": "python3"
  },
  "language_info": {
   "codemirror_mode": {
    "name": "ipython",
    "version": 3
   },
   "file_extension": ".py",
   "mimetype": "text/x-python",
   "name": "python",
   "nbconvert_exporter": "python",
   "pygments_lexer": "ipython3",
   "version": "3.12.5"
  }
 },
 "nbformat": 4,
 "nbformat_minor": 5
}
